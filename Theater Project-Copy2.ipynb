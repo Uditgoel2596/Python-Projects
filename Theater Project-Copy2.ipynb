{
 "cells": [
  {
   "cell_type": "code",
   "execution_count": 1,
   "id": "4f7a09af",
   "metadata": {},
   "outputs": [
    {
     "name": "stdout",
     "output_type": "stream",
     "text": [
      "----------Welcome to Minerwa------------\n",
      "Please Enter your name: Udit\n",
      "Please Enter your age: 23\n",
      "Please Select the Movie from below:\n",
      "    Press 1 for Jawan\n",
      "    Press 2 for Animal (A Rated)\n",
      "    Press 3 for Dunki\n",
      "    2\n",
      "\n",
      "    Please Select the seat type from Below:\n",
      "    Press 1 for recliner @ 300rs\n",
      "    Press 2 for Gold @ 200rs\n",
      "    Press 3 for Silver @ 100rs\n",
      "    2\n",
      "Please select the no of seats: 55\n",
      "Sorry! Total seats available are:  50\n",
      "You want to add combo also: no\n",
      "\n",
      "You want to book more?yes\n",
      "\n",
      "    Please Select the seat type from Below:\n",
      "    Press 1 for recliner @ 300rs\n",
      "    Press 2 for Gold @ 200rs\n",
      "    Press 3 for Silver @ 100rs\n",
      "    1\n",
      "Please select the no of seats: 4\n",
      "Your total amount for 4  seats are:  1200\n",
      "Now total seats left are:  6\n",
      "You want to add combo also: yes\n",
      "Please select the combo from below which you want to add:\n",
      "        Press 1 for combo of Cold drink and Popcorn @ 200\n",
      "        Press 2 for combo of Cold drink, Popcorn and Fries @250\n",
      "        2\n",
      "Please enter no of combos you want to add: 4\n",
      "Your total amount is:  2200 Rs\n",
      "You want to book more?no\n",
      "Have a nice day\n"
     ]
    }
   ],
   "source": [
    "print (\"----------Welcome to Minerwa------------\")\n",
    "\n",
    "inp1 = input(\"Please Enter your name: \")\n",
    "inp2 = int(input(\"Please Enter your age: \"))\n",
    "if inp2<18:\n",
    "    MovieName= int(input(\"\"\"Please Select the Movie from below:\n",
    "    Press 1 for Jawan\n",
    "    Press 2 for Dunki\n",
    "    \"\"\"))\n",
    "else:\n",
    "    MovieName= int(input(\"\"\"Please Select the Movie from below:\n",
    "    Press 1 for Jawan\n",
    "    Press 2 for Animal (A Rated)\n",
    "    Press 3 for Dunki\n",
    "    \"\"\"))\n",
    "\n",
    "total=0\n",
    "rec_seats= 10\n",
    "gold_seats =50\n",
    "silver_seats =50\n",
    "inp7 = \"yes\"\n",
    "combo = \"yes\"\n",
    "\n",
    "while True:\n",
    "    inp3 = int(input(\"\"\"\n",
    "    Please Select the seat type from Below:\n",
    "    Press 1 for recliner @ 300rs\n",
    "    Press 2 for Gold @ 200rs\n",
    "    Press 3 for Silver @ 100rs\n",
    "    \"\"\"))\n",
    "\n",
    "    if inp3 == 1:\n",
    "        inp4 = int(input(\"Please select the no of seats: \"))\n",
    "        if inp4>rec_seats:\n",
    "            print (\"Sorry! Total seats available are: \",rec_seats)\n",
    "        else:\n",
    "            rec_seats=rec_seats-inp4\n",
    "            amount = inp4*300\n",
    "            print (\"Your total amount for\",inp4,\" seats are: \",amount)\n",
    "            print (\"Now total seats left are: \",rec_seats)\n",
    "            \n",
    "    elif inp3 == 2:\n",
    "        inp5 = int(input(\"Please select the no of seats: \"))\n",
    "        if inp5>gold_seats:\n",
    "            print (\"Sorry! Total seats available are: \",gold_seats)\n",
    "        else:\n",
    "            gold_seats = gold_seats-inp5\n",
    "            amount = inp5*200\n",
    "            print (\"your total amount for\",inp5, \" seats are: \",amount)\n",
    "            print (\"Now total seats left are: \",gold_seats)\n",
    "        \n",
    "    elif inp3 == 3:\n",
    "        inp6 = int(input(\"Please select the no of seats: \"))\n",
    "        if inp6>silver_seats:\n",
    "            print (\"Sorry! Total seats available are: \",silver_seats)\n",
    "        else:\n",
    "            silver_seats=silver_seats-inp6\n",
    "            amount = inp6*100\n",
    "            print (\"your total amount for\",inp6,\" seat are\",amount)\n",
    "            print (\"Total seats left are: \",silver_seats)\n",
    "    else:\n",
    "        print (\"Invalid Input\")\n",
    "    combo = input(\"You want to add combo also: \")\n",
    "    if combo == \"yes\":\n",
    "        combo_sel = int(input(\"\"\"Please select the combo from below which you want to add:\n",
    "        Press 1 for combo of Cold drink and Popcorn @ 200\n",
    "        Press 2 for combo of Cold drink, Popcorn and Fries @250\n",
    "        \"\"\"))\n",
    "        if combo_sel == 1:\n",
    "            combo_no = int(input(\"Please enter no of combos you want to add: \"))\n",
    "            combo_price = combo_no*200\n",
    "            amount = amount+combo_price\n",
    "            print (\"Your total amount is: \",amount,\"Rs\")\n",
    "        if combo_sel == 2:\n",
    "            combo_no = int(input(\"Please enter no of combos you want to add: \"))\n",
    "            combo_price = combo_no*250\n",
    "            amount = amount+combo_price\n",
    "            print (\"Your total amount is: \",amount,\"Rs\")\n",
    "        else:\n",
    "            print(\"Invalid Input\")\n",
    "    else :\n",
    "        print()\n",
    "    inp7 = input(\"You want to book more?\")\n",
    "    if inp7 == \"no\":\n",
    "        print (\"Have a nice day\")\n",
    "        break"
   ]
  },
  {
   "cell_type": "code",
   "execution_count": null,
   "id": "a4cd877a",
   "metadata": {},
   "outputs": [],
   "source": []
  },
  {
   "cell_type": "code",
   "execution_count": null,
   "id": "c5e03d5e",
   "metadata": {},
   "outputs": [],
   "source": []
  },
  {
   "cell_type": "code",
   "execution_count": null,
   "id": "2dc05d78",
   "metadata": {},
   "outputs": [],
   "source": []
  },
  {
   "cell_type": "code",
   "execution_count": null,
   "id": "3cb823c0",
   "metadata": {},
   "outputs": [],
   "source": []
  },
  {
   "cell_type": "code",
   "execution_count": null,
   "id": "91662946",
   "metadata": {},
   "outputs": [],
   "source": []
  },
  {
   "cell_type": "code",
   "execution_count": null,
   "id": "8ef888a4",
   "metadata": {},
   "outputs": [],
   "source": []
  },
  {
   "cell_type": "code",
   "execution_count": null,
   "id": "f48a8b83",
   "metadata": {},
   "outputs": [],
   "source": []
  },
  {
   "cell_type": "code",
   "execution_count": null,
   "id": "b8893c5c",
   "metadata": {},
   "outputs": [],
   "source": []
  },
  {
   "cell_type": "code",
   "execution_count": null,
   "id": "035c42f4",
   "metadata": {},
   "outputs": [],
   "source": []
  },
  {
   "cell_type": "code",
   "execution_count": null,
   "id": "09fe519e",
   "metadata": {},
   "outputs": [],
   "source": []
  },
  {
   "cell_type": "code",
   "execution_count": null,
   "id": "65fe673d",
   "metadata": {},
   "outputs": [],
   "source": []
  },
  {
   "cell_type": "code",
   "execution_count": null,
   "id": "a4b4f020",
   "metadata": {},
   "outputs": [],
   "source": []
  },
  {
   "cell_type": "code",
   "execution_count": null,
   "id": "1db170d3",
   "metadata": {},
   "outputs": [],
   "source": []
  },
  {
   "cell_type": "code",
   "execution_count": null,
   "id": "83b42116",
   "metadata": {},
   "outputs": [],
   "source": []
  },
  {
   "cell_type": "code",
   "execution_count": null,
   "id": "43e032ae",
   "metadata": {},
   "outputs": [],
   "source": []
  },
  {
   "cell_type": "code",
   "execution_count": null,
   "id": "9b78c32e",
   "metadata": {},
   "outputs": [],
   "source": []
  },
  {
   "cell_type": "code",
   "execution_count": null,
   "id": "c8ddba21",
   "metadata": {},
   "outputs": [],
   "source": []
  },
  {
   "cell_type": "code",
   "execution_count": null,
   "id": "f5768839",
   "metadata": {},
   "outputs": [],
   "source": []
  },
  {
   "cell_type": "code",
   "execution_count": null,
   "id": "4d94f38f",
   "metadata": {},
   "outputs": [],
   "source": []
  },
  {
   "cell_type": "code",
   "execution_count": null,
   "id": "bf8b190c",
   "metadata": {},
   "outputs": [],
   "source": []
  },
  {
   "cell_type": "code",
   "execution_count": null,
   "id": "41dc3766",
   "metadata": {},
   "outputs": [],
   "source": []
  },
  {
   "cell_type": "code",
   "execution_count": null,
   "id": "978a6852",
   "metadata": {},
   "outputs": [],
   "source": []
  },
  {
   "cell_type": "code",
   "execution_count": null,
   "id": "a09de4bb",
   "metadata": {},
   "outputs": [],
   "source": []
  },
  {
   "cell_type": "code",
   "execution_count": null,
   "id": "801411ce",
   "metadata": {},
   "outputs": [],
   "source": []
  },
  {
   "cell_type": "code",
   "execution_count": null,
   "id": "898d37d9",
   "metadata": {},
   "outputs": [],
   "source": []
  },
  {
   "cell_type": "code",
   "execution_count": null,
   "id": "ce7f8216",
   "metadata": {},
   "outputs": [],
   "source": []
  },
  {
   "cell_type": "code",
   "execution_count": null,
   "id": "e1e7812c",
   "metadata": {},
   "outputs": [],
   "source": []
  },
  {
   "cell_type": "code",
   "execution_count": null,
   "id": "ff3239c3",
   "metadata": {},
   "outputs": [],
   "source": []
  },
  {
   "cell_type": "code",
   "execution_count": null,
   "id": "faaae2b7",
   "metadata": {},
   "outputs": [],
   "source": []
  },
  {
   "cell_type": "code",
   "execution_count": null,
   "id": "7e8aff72",
   "metadata": {},
   "outputs": [],
   "source": []
  },
  {
   "cell_type": "code",
   "execution_count": null,
   "id": "08793fa1",
   "metadata": {},
   "outputs": [],
   "source": []
  },
  {
   "cell_type": "code",
   "execution_count": null,
   "id": "64980fdd",
   "metadata": {},
   "outputs": [],
   "source": []
  }
 ],
 "metadata": {
  "kernelspec": {
   "display_name": "Python 3 (ipykernel)",
   "language": "python",
   "name": "python3"
  },
  "language_info": {
   "codemirror_mode": {
    "name": "ipython",
    "version": 3
   },
   "file_extension": ".py",
   "mimetype": "text/x-python",
   "name": "python",
   "nbconvert_exporter": "python",
   "pygments_lexer": "ipython3",
   "version": "3.11.3"
  }
 },
 "nbformat": 4,
 "nbformat_minor": 5
}
